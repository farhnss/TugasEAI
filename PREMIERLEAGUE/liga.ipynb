{
 "cells": [
  {
   "cell_type": "code",
   "execution_count": 1,
   "metadata": {},
   "outputs": [
    {
     "name": "stdout",
     "output_type": "stream",
     "text": [
      "[{'team': {'name': 'Arsenal', 'logo': 'https://a.espncdn.com/i/teamlogos/soccer/500/359.png', 'abbreviation': 'ARS'}, 'stats': {'wins': 20, 'losses': 4, 'ties': 4, 'gamesPlayed': 28, 'goalsFor': 70, 'goalsAgainst': 24, 'points': 64, 'rank': 1, 'goalDifference': 46}}, {'team': {'name': 'Liverpool', 'logo': 'https://a.espncdn.com/i/teamlogos/soccer/500/364.png', 'abbreviation': 'LIV'}, 'stats': {'wins': 19, 'losses': 2, 'ties': 7, 'gamesPlayed': 28, 'goalsFor': 65, 'goalsAgainst': 26, 'points': 64, 'rank': 2, 'goalDifference': 39}}, {'team': {'name': 'Manchester City', 'logo': 'https://a.espncdn.com/i/teamlogos/soccer/500/382.png', 'abbreviation': 'MNC'}, 'stats': {'wins': 19, 'losses': 3, 'ties': 6, 'gamesPlayed': 28, 'goalsFor': 63, 'goalsAgainst': 28, 'points': 63, 'rank': 3, 'goalDifference': 35}}, {'team': {'name': 'Aston Villa', 'logo': 'https://a.espncdn.com/i/teamlogos/soccer/500/362.png', 'abbreviation': 'AVL'}, 'stats': {'wins': 17, 'losses': 7, 'ties': 4, 'gamesPlayed': 28, 'goalsFor': 59, 'goalsAgainst': 41, 'points': 55, 'rank': 4, 'goalDifference': 18}}, {'team': {'name': 'Tottenham Hotspur', 'logo': 'https://a.espncdn.com/i/teamlogos/soccer/500/367.png', 'abbreviation': 'TOT'}, 'stats': {'wins': 16, 'losses': 6, 'ties': 5, 'gamesPlayed': 27, 'goalsFor': 59, 'goalsAgainst': 39, 'points': 53, 'rank': 5, 'goalDifference': 20}}, {'team': {'name': 'Manchester United', 'logo': 'https://a.espncdn.com/i/teamlogos/soccer/500/360.png', 'abbreviation': 'MAN'}, 'stats': {'wins': 15, 'losses': 11, 'ties': 2, 'gamesPlayed': 28, 'goalsFor': 39, 'goalsAgainst': 39, 'points': 47, 'rank': 6, 'goalDifference': 0}}, {'team': {'name': 'West Ham United', 'logo': 'https://a.espncdn.com/i/teamlogos/soccer/500/371.png', 'abbreviation': 'WHU'}, 'stats': {'wins': 12, 'losses': 9, 'ties': 7, 'gamesPlayed': 28, 'goalsFor': 45, 'goalsAgainst': 49, 'points': 43, 'rank': 7, 'goalDifference': -4}}, {'team': {'name': 'Brighton & Hove Albion', 'logo': 'https://a.espncdn.com/i/teamlogos/soccer/500/331.png', 'abbreviation': 'BHA'}, 'stats': {'wins': 11, 'losses': 8, 'ties': 9, 'gamesPlayed': 28, 'goalsFor': 50, 'goalsAgainst': 44, 'points': 42, 'rank': 8, 'goalDifference': 6}}, {'team': {'name': 'Wolverhampton Wanderers', 'logo': 'https://a.espncdn.com/i/teamlogos/soccer/500/380.png', 'abbreviation': 'WOL'}, 'stats': {'wins': 12, 'losses': 11, 'ties': 5, 'gamesPlayed': 28, 'goalsFor': 42, 'goalsAgainst': 44, 'points': 41, 'rank': 9, 'goalDifference': -2}}, {'team': {'name': 'Newcastle United', 'logo': 'https://a.espncdn.com/i/teamlogos/soccer/500/361.png', 'abbreviation': 'NEW'}, 'stats': {'wins': 12, 'losses': 12, 'ties': 4, 'gamesPlayed': 28, 'goalsFor': 59, 'goalsAgainst': 48, 'points': 40, 'rank': 10, 'goalDifference': 11}}, {'team': {'name': 'Chelsea', 'logo': 'https://a.espncdn.com/i/teamlogos/soccer/500/363.png', 'abbreviation': 'CHE'}, 'stats': {'wins': 11, 'losses': 10, 'ties': 6, 'gamesPlayed': 27, 'goalsFor': 47, 'goalsAgainst': 45, 'points': 39, 'rank': 11, 'goalDifference': 2}}, {'team': {'name': 'Fulham', 'logo': 'https://a.espncdn.com/i/teamlogos/soccer/500/370.png', 'abbreviation': 'FUL'}, 'stats': {'wins': 10, 'losses': 13, 'ties': 5, 'gamesPlayed': 28, 'goalsFor': 40, 'goalsAgainst': 44, 'points': 35, 'rank': 12, 'goalDifference': -4}}, {'team': {'name': 'AFC Bournemouth', 'logo': 'https://a.espncdn.com/i/teamlogos/soccer/500/349.png', 'abbreviation': 'BOU'}, 'stats': {'wins': 9, 'losses': 11, 'ties': 8, 'gamesPlayed': 28, 'goalsFor': 41, 'goalsAgainst': 52, 'points': 35, 'rank': 13, 'goalDifference': -11}}, {'team': {'name': 'Crystal Palace', 'logo': 'https://a.espncdn.com/i/teamlogos/soccer/500/384.png', 'abbreviation': 'CRY'}, 'stats': {'wins': 7, 'losses': 13, 'ties': 8, 'gamesPlayed': 28, 'goalsFor': 33, 'goalsAgainst': 48, 'points': 29, 'rank': 14, 'goalDifference': -15}}, {'team': {'name': 'Brentford', 'logo': 'https://a.espncdn.com/i/teamlogos/soccer/500/337.png', 'abbreviation': 'BRE'}, 'stats': {'wins': 7, 'losses': 16, 'ties': 5, 'gamesPlayed': 28, 'goalsFor': 40, 'goalsAgainst': 52, 'points': 26, 'rank': 15, 'goalDifference': -12}}, {'team': {'name': 'Everton', 'logo': 'https://a.espncdn.com/i/teamlogos/soccer/500/368.png', 'abbreviation': 'EVE'}, 'stats': {'wins': 8, 'losses': 13, 'ties': 7, 'gamesPlayed': 28, 'goalsFor': 29, 'goalsAgainst': 39, 'points': 25, 'rank': 16, 'goalDifference': -10}}, {'team': {'name': 'Nottingham Forest', 'logo': 'https://a.espncdn.com/i/teamlogos/soccer/500/393.png', 'abbreviation': 'NFO'}, 'stats': {'wins': 6, 'losses': 16, 'ties': 6, 'gamesPlayed': 28, 'goalsFor': 34, 'goalsAgainst': 50, 'points': 24, 'rank': 17, 'goalDifference': -16}}, {'team': {'name': 'Luton Town', 'logo': 'https://a.espncdn.com/i/teamlogos/soccer/500/301.png', 'abbreviation': 'LTN'}, 'stats': {'wins': 5, 'losses': 17, 'ties': 6, 'gamesPlayed': 28, 'goalsFor': 41, 'goalsAgainst': 59, 'points': 21, 'rank': 18, 'goalDifference': -18}}, {'team': {'name': 'Burnley', 'logo': 'https://a.espncdn.com/i/teamlogos/soccer/500/379.png', 'abbreviation': 'BUR'}, 'stats': {'wins': 3, 'losses': 20, 'ties': 5, 'gamesPlayed': 28, 'goalsFor': 27, 'goalsAgainst': 62, 'points': 14, 'rank': 19, 'goalDifference': -35}}, {'team': {'name': 'Sheffield United', 'logo': 'https://a.espncdn.com/i/teamlogos/soccer/500/398.png', 'abbreviation': 'SHU'}, 'stats': {'wins': 3, 'losses': 20, 'ties': 5, 'gamesPlayed': 28, 'goalsFor': 24, 'goalsAgainst': 74, 'points': 14, 'rank': 20, 'goalDifference': -50}}]\n"
     ]
    }
   ],
   "source": [
    "import requests\n",
    "\n",
    "url = \"https://premier-league-standings1.p.rapidapi.com/\"\n",
    "\n",
    "headers = {\n",
    "\t\"X-RapidAPI-Key\": \"16a307a9bemsh20ca6f2e4755c2ap1a7065jsn62bcdfdbfb4d\",\n",
    "\t\"X-RapidAPI-Host\": \"premier-league-standings1.p.rapidapi.com\"\n",
    "}\n",
    "\n",
    "response = requests.get(url, headers=headers)\n",
    "\n",
    "print(response.json())\n"
   ]
  },
  {
   "cell_type": "code",
   "execution_count": 3,
   "metadata": {},
   "outputs": [
    {
     "data": {
      "text/plain": [
       "requests.models.Response"
      ]
     },
     "execution_count": 3,
     "metadata": {},
     "output_type": "execute_result"
    }
   ],
   "source": [
    "type(response)"
   ]
  },
  {
   "cell_type": "code",
   "execution_count": 2,
   "metadata": {},
   "outputs": [],
   "source": [
    "premierleague = response.json()"
   ]
  },
  {
   "cell_type": "code",
   "execution_count": 4,
   "metadata": {},
   "outputs": [
    {
     "name": "stdout",
     "output_type": "stream",
     "text": [
      "{'team': {'name': 'Arsenal', 'logo': 'https://a.espncdn.com/i/teamlogos/soccer/500/359.png', 'abbreviation': 'ARS'}, 'stats': {'wins': 20, 'losses': 4, 'ties': 4, 'gamesPlayed': 28, 'goalsFor': 70, 'goalsAgainst': 24, 'points': 64, 'rank': 1, 'goalDifference': 46}}\n",
      "{'team': {'name': 'Liverpool', 'logo': 'https://a.espncdn.com/i/teamlogos/soccer/500/364.png', 'abbreviation': 'LIV'}, 'stats': {'wins': 19, 'losses': 2, 'ties': 7, 'gamesPlayed': 28, 'goalsFor': 65, 'goalsAgainst': 26, 'points': 64, 'rank': 2, 'goalDifference': 39}}\n",
      "{'team': {'name': 'Manchester City', 'logo': 'https://a.espncdn.com/i/teamlogos/soccer/500/382.png', 'abbreviation': 'MNC'}, 'stats': {'wins': 19, 'losses': 3, 'ties': 6, 'gamesPlayed': 28, 'goalsFor': 63, 'goalsAgainst': 28, 'points': 63, 'rank': 3, 'goalDifference': 35}}\n",
      "{'team': {'name': 'Aston Villa', 'logo': 'https://a.espncdn.com/i/teamlogos/soccer/500/362.png', 'abbreviation': 'AVL'}, 'stats': {'wins': 17, 'losses': 7, 'ties': 4, 'gamesPlayed': 28, 'goalsFor': 59, 'goalsAgainst': 41, 'points': 55, 'rank': 4, 'goalDifference': 18}}\n",
      "{'team': {'name': 'Tottenham Hotspur', 'logo': 'https://a.espncdn.com/i/teamlogos/soccer/500/367.png', 'abbreviation': 'TOT'}, 'stats': {'wins': 16, 'losses': 6, 'ties': 5, 'gamesPlayed': 27, 'goalsFor': 59, 'goalsAgainst': 39, 'points': 53, 'rank': 5, 'goalDifference': 20}}\n",
      "{'team': {'name': 'Manchester United', 'logo': 'https://a.espncdn.com/i/teamlogos/soccer/500/360.png', 'abbreviation': 'MAN'}, 'stats': {'wins': 15, 'losses': 11, 'ties': 2, 'gamesPlayed': 28, 'goalsFor': 39, 'goalsAgainst': 39, 'points': 47, 'rank': 6, 'goalDifference': 0}}\n",
      "{'team': {'name': 'West Ham United', 'logo': 'https://a.espncdn.com/i/teamlogos/soccer/500/371.png', 'abbreviation': 'WHU'}, 'stats': {'wins': 12, 'losses': 9, 'ties': 7, 'gamesPlayed': 28, 'goalsFor': 45, 'goalsAgainst': 49, 'points': 43, 'rank': 7, 'goalDifference': -4}}\n",
      "{'team': {'name': 'Brighton & Hove Albion', 'logo': 'https://a.espncdn.com/i/teamlogos/soccer/500/331.png', 'abbreviation': 'BHA'}, 'stats': {'wins': 11, 'losses': 8, 'ties': 9, 'gamesPlayed': 28, 'goalsFor': 50, 'goalsAgainst': 44, 'points': 42, 'rank': 8, 'goalDifference': 6}}\n",
      "{'team': {'name': 'Wolverhampton Wanderers', 'logo': 'https://a.espncdn.com/i/teamlogos/soccer/500/380.png', 'abbreviation': 'WOL'}, 'stats': {'wins': 12, 'losses': 11, 'ties': 5, 'gamesPlayed': 28, 'goalsFor': 42, 'goalsAgainst': 44, 'points': 41, 'rank': 9, 'goalDifference': -2}}\n",
      "{'team': {'name': 'Newcastle United', 'logo': 'https://a.espncdn.com/i/teamlogos/soccer/500/361.png', 'abbreviation': 'NEW'}, 'stats': {'wins': 12, 'losses': 12, 'ties': 4, 'gamesPlayed': 28, 'goalsFor': 59, 'goalsAgainst': 48, 'points': 40, 'rank': 10, 'goalDifference': 11}}\n",
      "{'team': {'name': 'Chelsea', 'logo': 'https://a.espncdn.com/i/teamlogos/soccer/500/363.png', 'abbreviation': 'CHE'}, 'stats': {'wins': 11, 'losses': 10, 'ties': 6, 'gamesPlayed': 27, 'goalsFor': 47, 'goalsAgainst': 45, 'points': 39, 'rank': 11, 'goalDifference': 2}}\n",
      "{'team': {'name': 'Fulham', 'logo': 'https://a.espncdn.com/i/teamlogos/soccer/500/370.png', 'abbreviation': 'FUL'}, 'stats': {'wins': 10, 'losses': 13, 'ties': 5, 'gamesPlayed': 28, 'goalsFor': 40, 'goalsAgainst': 44, 'points': 35, 'rank': 12, 'goalDifference': -4}}\n",
      "{'team': {'name': 'AFC Bournemouth', 'logo': 'https://a.espncdn.com/i/teamlogos/soccer/500/349.png', 'abbreviation': 'BOU'}, 'stats': {'wins': 9, 'losses': 11, 'ties': 8, 'gamesPlayed': 28, 'goalsFor': 41, 'goalsAgainst': 52, 'points': 35, 'rank': 13, 'goalDifference': -11}}\n",
      "{'team': {'name': 'Crystal Palace', 'logo': 'https://a.espncdn.com/i/teamlogos/soccer/500/384.png', 'abbreviation': 'CRY'}, 'stats': {'wins': 7, 'losses': 13, 'ties': 8, 'gamesPlayed': 28, 'goalsFor': 33, 'goalsAgainst': 48, 'points': 29, 'rank': 14, 'goalDifference': -15}}\n",
      "{'team': {'name': 'Brentford', 'logo': 'https://a.espncdn.com/i/teamlogos/soccer/500/337.png', 'abbreviation': 'BRE'}, 'stats': {'wins': 7, 'losses': 16, 'ties': 5, 'gamesPlayed': 28, 'goalsFor': 40, 'goalsAgainst': 52, 'points': 26, 'rank': 15, 'goalDifference': -12}}\n",
      "{'team': {'name': 'Everton', 'logo': 'https://a.espncdn.com/i/teamlogos/soccer/500/368.png', 'abbreviation': 'EVE'}, 'stats': {'wins': 8, 'losses': 13, 'ties': 7, 'gamesPlayed': 28, 'goalsFor': 29, 'goalsAgainst': 39, 'points': 25, 'rank': 16, 'goalDifference': -10}}\n",
      "{'team': {'name': 'Nottingham Forest', 'logo': 'https://a.espncdn.com/i/teamlogos/soccer/500/393.png', 'abbreviation': 'NFO'}, 'stats': {'wins': 6, 'losses': 16, 'ties': 6, 'gamesPlayed': 28, 'goalsFor': 34, 'goalsAgainst': 50, 'points': 24, 'rank': 17, 'goalDifference': -16}}\n",
      "{'team': {'name': 'Luton Town', 'logo': 'https://a.espncdn.com/i/teamlogos/soccer/500/301.png', 'abbreviation': 'LTN'}, 'stats': {'wins': 5, 'losses': 17, 'ties': 6, 'gamesPlayed': 28, 'goalsFor': 41, 'goalsAgainst': 59, 'points': 21, 'rank': 18, 'goalDifference': -18}}\n",
      "{'team': {'name': 'Burnley', 'logo': 'https://a.espncdn.com/i/teamlogos/soccer/500/379.png', 'abbreviation': 'BUR'}, 'stats': {'wins': 3, 'losses': 20, 'ties': 5, 'gamesPlayed': 28, 'goalsFor': 27, 'goalsAgainst': 62, 'points': 14, 'rank': 19, 'goalDifference': -35}}\n",
      "{'team': {'name': 'Sheffield United', 'logo': 'https://a.espncdn.com/i/teamlogos/soccer/500/398.png', 'abbreviation': 'SHU'}, 'stats': {'wins': 3, 'losses': 20, 'ties': 5, 'gamesPlayed': 28, 'goalsFor': 24, 'goalsAgainst': 74, 'points': 14, 'rank': 20, 'goalDifference': -50}}\n"
     ]
    }
   ],
   "source": [
    "for i in premierleague:\n",
    "    print(i)"
   ]
  },
  {
   "cell_type": "code",
   "execution_count": 12,
   "metadata": {},
   "outputs": [
    {
     "name": "stdout",
     "output_type": "stream",
     "text": [
      "Arsenal 64\n",
      "Liverpool 64\n",
      "Manchester City 63\n",
      "Aston Villa 55\n",
      "Tottenham Hotspur 53\n",
      "Manchester United 47\n",
      "West Ham United 43\n",
      "Brighton & Hove Albion 42\n",
      "Wolverhampton Wanderers 41\n",
      "Newcastle United 40\n",
      "Chelsea 39\n",
      "Fulham 35\n",
      "AFC Bournemouth 35\n",
      "Crystal Palace 29\n",
      "Brentford 26\n",
      "Everton 25\n",
      "Nottingham Forest 24\n",
      "Luton Town 21\n",
      "Burnley 14\n",
      "Sheffield United 14\n"
     ]
    }
   ],
   "source": [
    "for i in premierleague:\n",
    "    print(i['team']['name'], i['stats']['points'])"
   ]
  },
  {
   "cell_type": "code",
   "execution_count": 13,
   "metadata": {},
   "outputs": [
    {
     "data": {
      "text/plain": [
       "20"
      ]
     },
     "execution_count": 13,
     "metadata": {},
     "output_type": "execute_result"
    }
   ],
   "source": [
    "len(premierleague)"
   ]
  },
  {
   "cell_type": "code",
   "execution_count": 1,
   "metadata": {},
   "outputs": [
    {
     "name": "stdout",
     "output_type": "stream",
     "text": [
      "[{'pid': 1, 'name': 'Bruno Guimarães', 'logo': 'https://s.hs-data.com/bilder/wappen/mini/546.gif?fallback=png', 'team': 'Newcastle United', 'age': 26, 'height': 182, 'position': 'MF', 'nation': 'Brazil'}, {'pid': 2, 'name': 'Emiliano Buendia', 'logo': 'https://s.hs-data.com/bilder/wappen/mini/559.gif?fallback=png', 'team': 'Aston Villa', 'age': 27, 'height': 172, 'position': 'MF', 'nation': 'Argentina'}, {'pid': 3, 'name': 'Santiago Bueno', 'logo': 'https://s.hs-data.com/bilder/wappen/mini/749.gif?fallback=png', 'team': 'Wolverhampton Wanderers', 'age': 25, 'height': 192, 'position': 'DF', 'nation': 'Uruguay'}, {'pid': 4, 'name': 'Facundo Buonanotte', 'logo': 'https://s.hs-data.com/bilder/wappen/mini/3050.gif?fallback=png', 'team': 'Brighton & Hove Albion', 'age': 19, 'height': 174, 'position': 'MF', 'nation': 'Argentina'}, {'pid': 5, 'name': 'Reece Burke', 'logo': 'https://s.hs-data.com/bilder/wappen/mini/3123.gif?fallback=png', 'team': 'Luton Town', 'age': 27, 'height': 189, 'position': 'DF', 'nation': 'England'}, {'pid': 6, 'name': 'Moisés Caicedo', 'logo': 'https://s.hs-data.com/bilder/wappen/mini/544.gif?fallback=png', 'team': 'Chelsea FC', 'age': 22, 'height': 178, 'position': 'MF', 'nation': 'Ecuador'}, {'pid': 7, 'name': 'Dan Burn', 'logo': 'https://s.hs-data.com/bilder/wappen/mini/546.gif?fallback=png', 'team': 'Newcastle United', 'age': 31, 'height': 201, 'position': 'DF', 'nation': 'England'}, {'pid': 8, 'name': 'Tom Cairney', 'logo': 'https://s.hs-data.com/bilder/wappen/mini/558.gif?fallback=png', 'team': 'Fulham FC', 'age': 33, 'height': 185, 'position': 'MF', 'nation': 'England'}, {'pid': 9, 'name': 'Dominic Calvert-Lewin', 'logo': 'https://s.hs-data.com/bilder/wappen/mini/560.gif?fallback=png', 'team': 'Everton FC', 'age': 27, 'height': 189, 'position': 'FW', 'nation': 'England'}, {'pid': 10, 'name': 'Cesare Casadei', 'logo': 'https://s.hs-data.com/bilder/wappen/mini/544.gif?fallback=png', 'team': 'Chelsea FC', 'age': 21, 'height': 185, 'position': 'MF', 'nation': 'Italy'}, {'pid': 11, 'name': 'Kaelan Casey', 'logo': 'https://s.hs-data.com/bilder/wappen/mini/553.gif?fallback=png', 'team': 'West Ham United', 'age': 19, 'height': 185, 'position': 'DF', 'nation': 'England'}, {'pid': 12, 'name': 'Matty Cash', 'logo': 'https://s.hs-data.com/bilder/wappen/mini/559.gif?fallback=png', 'team': 'Aston Villa', 'age': 26, 'height': 185, 'position': 'DF', 'nation': 'Poland'}, {'pid': 13, 'name': 'Leo Castledine', 'logo': 'https://s.hs-data.com/bilder/wappen/mini/544.gif?fallback=png', 'team': 'Chelsea FC', 'age': 18, 'height': 179, 'position': 'MF', 'nation': 'England'}, {'pid': 14, 'name': 'Ben Chilwell', 'logo': 'https://s.hs-data.com/bilder/wappen/mini/544.gif?fallback=png', 'team': 'Chelsea FC', 'age': 27, 'height': 181, 'position': 'DF', 'nation': 'England'}, {'pid': 15, 'name': 'Tawanda Chirewa', 'logo': 'https://s.hs-data.com/bilder/wappen/mini/749.gif?fallback=png', 'team': 'Wolverhampton Wanderers', 'age': 20, 'height': 181, 'position': 'MF', 'nation': 'England'}, {'pid': 16, 'name': 'Leon Chiwome', 'logo': 'https://s.hs-data.com/bilder/wappen/mini/749.gif?fallback=png', 'team': 'Wolverhampton Wanderers', 'age': 18, 'height': 186, 'position': 'FW', 'nation': 'England'}, {'pid': 17, 'name': 'Samy Chouchane', 'logo': 'https://s.hs-data.com/bilder/wappen/mini/3050.gif?fallback=png', 'team': 'Brighton & Hove Albion', 'age': 20, 'height': 180, 'position': 'MF', 'nation': 'France'}, {'pid': 18, 'name': 'Ryan Christie', 'logo': 'https://s.hs-data.com/bilder/wappen/mini/2248.gif?fallback=png', 'team': 'AFC Bournemouth', 'age': 29, 'height': 178, 'position': 'MF', 'nation': 'Scotland'}, {'pid': 19, 'name': 'Carney Chukwuemeka', 'logo': 'https://s.hs-data.com/bilder/wappen/mini/544.gif?fallback=png', 'team': 'Chelsea FC', 'age': 20, 'height': 187, 'position': 'MF', 'nation': 'England'}, {'pid': 20, 'name': 'Bobby Clark', 'logo': 'https://s.hs-data.com/bilder/wappen/mini/550.gif?fallback=png', 'team': 'Liverpool FC', 'age': 19, 'height': 178, 'position': 'MF', 'nation': 'England'}, {'pid': 21, 'name': 'Jordan Clark', 'logo': 'https://s.hs-data.com/bilder/wappen/mini/3123.gif?fallback=png', 'team': 'Luton Town', 'age': 30, 'height': 183, 'position': 'MF', 'nation': 'England'}, {'pid': 22, 'name': 'Nathaniel Clyne', 'logo': 'https://s.hs-data.com/bilder/wappen/mini/2242.gif?fallback=png', 'team': 'Crystal Palace', 'age': 32, 'height': 175, 'position': 'DF', 'nation': 'England'}, {'pid': 23, 'name': 'Séamus Coleman', 'logo': 'https://s.hs-data.com/bilder/wappen/mini/560.gif?fallback=png', 'team': 'Everton FC', 'age': 35, 'height': 177, 'position': 'DF', 'nation': 'Ireland'}, {'pid': 24, 'name': 'Nathan Collins', 'logo': 'https://s.hs-data.com/bilder/wappen/mini/3271.gif?fallback=png', 'team': 'Brentford FC', 'age': 22, 'height': 193, 'position': 'DF', 'nation': 'Ireland'}, {'pid': 25, 'name': 'Toby Collyer', 'logo': 'https://s.hs-data.com/bilder/wappen/mini/543.gif?fallback=png', 'team': 'Manchester United', 'age': 20, 'height': 175, 'position': 'MF', 'nation': 'England'}, {'pid': 26, 'name': 'Levi Colwill', 'logo': 'https://s.hs-data.com/bilder/wappen/mini/544.gif?fallback=png', 'team': 'Chelsea FC', 'age': 21, 'height': 187, 'position': 'DF', 'nation': 'England'}, {'pid': 27, 'name': 'Lewis Cook', 'logo': 'https://s.hs-data.com/bilder/wappen/mini/2248.gif?fallback=png', 'team': 'AFC Bournemouth', 'age': 27, 'height': 175, 'position': 'MF', 'nation': 'England'}, {'pid': 28, 'name': 'Vladimír Coufal', 'logo': 'https://s.hs-data.com/bilder/wappen/mini/553.gif?fallback=png', 'team': 'West Ham United', 'age': 31, 'height': 174, 'position': 'DF', 'nation': 'Czech Republic'}, {'pid': 29, 'name': 'Amario Cozier-Duberry', 'logo': 'https://s.hs-data.com/bilder/wappen/mini/555.gif?fallback=png', 'team': 'Arsenal FC', 'age': 18, 'height': 170, 'position': 'MF', 'nation': 'England'}, {'pid': 30, 'name': 'Aaron Cresswell', 'logo': 'https://s.hs-data.com/bilder/wappen/mini/553.gif?fallback=png', 'team': 'West Ham United', 'age': 34, 'height': 170, 'position': 'DF', 'nation': 'England'}, {'pid': 31, 'name': 'Josh Cullen', 'logo': 'https://s.hs-data.com/bilder/wappen/mini/3185.gif?fallback=png', 'team': 'Burnley FC', 'age': 27, 'height': 175, 'position': 'MF', 'nation': 'Ireland'}, {'pid': 32, 'name': 'Ted Curd', 'logo': 'https://s.hs-data.com/bilder/wappen/mini/544.gif?fallback=png', 'team': 'Chelsea FC', 'age': 18, 'height': 186, 'position': 'GK', 'nation': 'England'}, {'pid': 33, 'name': 'Mikkel Damsgaard', 'logo': 'https://s.hs-data.com/bilder/wappen/mini/3271.gif?fallback=png', 'team': 'Brentford FC', 'age': 23, 'height': 180, 'position': 'MF', 'nation': 'Denmark'}, {'pid': 34, 'name': 'Sam Curtis', 'logo': 'https://s.hs-data.com/bilder/wappen/mini/2309.gif?fallback=png', 'team': 'Sheffield United', 'age': 18, 'height': 185, 'position': 'DF', 'nation': 'Ireland'}, {'pid': 35, 'name': 'Danilo', 'logo': 'https://s.hs-data.com/bilder/wappen/mini/743.gif?fallback=png', 'team': 'Nottingham Forest', 'age': 22, 'height': 177, 'position': 'MF', 'nation': 'Brazil'}, {'pid': 36, 'name': 'Joshua Dasilva', 'logo': 'https://s.hs-data.com/bilder/wappen/mini/3271.gif?fallback=png', 'team': 'Brentford FC', 'age': 25, 'height': 184, 'position': 'MF', 'nation': 'England'}, {'pid': 37, 'name': 'Adam Lallana', 'logo': 'https://s.hs-data.com/bilder/wappen/mini/3050.gif?fallback=png', 'team': 'Brighton & Hove Albion', 'age': 35, 'height': 172, 'position': 'MF', 'nation': 'England'}, {'pid': 38, 'name': 'Tariq Lamptey', 'logo': 'https://s.hs-data.com/bilder/wappen/mini/3050.gif?fallback=png', 'team': 'Brighton & Hove Albion', 'age': 23, 'height': 163, 'position': 'DF', 'nation': 'Ghana'}, {'pid': 39, 'name': 'Yasser Larouci', 'logo': 'https://s.hs-data.com/bilder/wappen/mini/2309.gif?fallback=png', 'team': 'Sheffield United', 'age': 23, 'height': 176, 'position': 'DF', 'nation': 'France'}, {'pid': 40, 'name': 'Jamaal Lascelles', 'logo': 'https://s.hs-data.com/bilder/wappen/mini/546.gif?fallback=png', 'team': 'Newcastle United', 'age': 30, 'height': 188, 'position': 'DF', 'nation': 'England'}, {'pid': 41, 'name': 'Roméo Lavia', 'logo': 'https://s.hs-data.com/bilder/wappen/mini/544.gif?fallback=png', 'team': 'Chelsea FC', 'age': 20, 'height': 181, 'position': 'MF', 'nation': 'Belgium'}, {'pid': 42, 'name': 'Noha Lemina', 'logo': 'https://s.hs-data.com/bilder/wappen/mini/749.gif?fallback=png', 'team': 'Wolverhampton Wanderers', 'age': 18, 'height': 172, 'position': 'FW', 'nation': 'France'}, {'pid': 43, 'name': 'Jefferson Lerma', 'logo': 'https://s.hs-data.com/bilder/wappen/mini/2242.gif?fallback=png', 'team': 'Crystal Palace', 'age': 29, 'height': 179, 'position': 'MF', 'nation': 'Colombia'}, {'pid': 44, 'name': 'Rico Lewis', 'logo': 'https://s.hs-data.com/bilder/wappen/mini/750.gif?fallback=png', 'team': 'Manchester City', 'age': 19, 'height': 175, 'position': 'DF', 'nation': 'England'}, {'pid': 45, 'name': 'Myles Lewis-Skelly', 'logo': 'https://s.hs-data.com/bilder/wappen/mini/555.gif?fallback=png', 'team': 'Arsenal FC', 'age': 17, 'height': 178, 'position': 'MF', 'nation': 'England'}, {'pid': 46, 'name': 'Keane Lewis-Potter', 'logo': 'https://s.hs-data.com/bilder/wappen/mini/3271.gif?fallback=png', 'team': 'Brentford FC', 'age': 23, 'height': 170, 'position': 'FW', 'nation': 'England'}, {'pid': 47, 'name': 'Tino Livramento', 'logo': 'https://s.hs-data.com/bilder/wappen/mini/546.gif?fallback=png', 'team': 'Newcastle United', 'age': 21, 'height': 173, 'position': 'DF', 'nation': 'England'}, {'pid': 48, 'name': 'Tom Lockyer', 'logo': 'https://s.hs-data.com/bilder/wappen/mini/3123.gif?fallback=png', 'team': 'Luton Town', 'age': 29, 'height': 185, 'position': 'DF', 'nation': 'Wales'}, {'pid': 49, 'name': 'Albert Lokonga', 'logo': 'https://s.hs-data.com/bilder/wappen/mini/3123.gif?fallback=png', 'team': 'Luton Town', 'age': 24, 'height': 183, 'position': 'MF', 'nation': 'Belgium'}, {'pid': 50, 'name': 'Andy Lonergan', 'logo': 'https://s.hs-data.com/bilder/wappen/mini/560.gif?fallback=png', 'team': 'Everton FC', 'age': 40, 'height': 193, 'position': 'GK', 'nation': 'England'}, {'pid': 51, 'name': 'Sean Longstaff', 'logo': 'https://s.hs-data.com/bilder/wappen/mini/546.gif?fallback=png', 'team': 'Newcastle United', 'age': 26, 'height': 181, 'position': 'MF', 'nation': 'England'}, {'pid': 52, 'name': 'Max Lowe', 'logo': 'https://s.hs-data.com/bilder/wappen/mini/2309.gif?fallback=png', 'team': 'Sheffield United', 'age': 26, 'height': 175, 'position': 'DF', 'nation': 'England'}, {'pid': 53, 'name': 'Lucas Paquetá', 'logo': 'https://s.hs-data.com/bilder/wappen/mini/553.gif?fallback=png', 'team': 'West Ham United', 'age': 26, 'height': 180, 'position': 'MF', 'nation': 'Brazil'}, {'pid': 54, 'name': 'Saša Lukić', 'logo': 'https://s.hs-data.com/bilder/wappen/mini/558.gif?fallback=png', 'team': 'Fulham FC', 'age': 27, 'height': 182, 'position': 'MF', 'nation': 'Serbia'}, {'pid': 55, 'name': 'Alexis Mac Allister', 'logo': 'https://s.hs-data.com/bilder/wappen/mini/550.gif?fallback=png', 'team': 'Liverpool FC', 'age': 25, 'height': 174, 'position': 'MF', 'nation': 'Argentina'}, {'pid': 56, 'name': 'James Maddison', 'logo': 'https://s.hs-data.com/bilder/wappen/mini/552.gif?fallback=png', 'team': 'Tottenham Hotspur', 'age': 27, 'height': 175, 'position': 'MF', 'nation': 'England'}, {'pid': 57, 'name': 'Noni Madueke', 'logo': 'https://s.hs-data.com/bilder/wappen/mini/544.gif?fallback=png', 'team': 'Chelsea FC', 'age': 22, 'height': 182, 'position': 'FW', 'nation': 'England'}, {'pid': 58, 'name': 'Harry Maguire', 'logo': 'https://s.hs-data.com/bilder/wappen/mini/543.gif?fallback=png', 'team': 'Manchester United', 'age': 31, 'height': 194, 'position': 'DF', 'nation': 'England'}, {'pid': 59, 'name': 'Kobbie Mainoo', 'logo': 'https://s.hs-data.com/bilder/wappen/mini/543.gif?fallback=png', 'team': 'Manchester United', 'age': 18, 'height': 175, 'position': 'MF', 'nation': 'England'}, {'pid': 60, 'name': 'Solly March', 'logo': 'https://s.hs-data.com/bilder/wappen/mini/3050.gif?fallback=png', 'team': 'Brighton & Hove Albion', 'age': 29, 'height': 180, 'position': 'MF', 'nation': 'England'}, {'pid': 61, 'name': 'Lisandro Martínez', 'logo': 'https://s.hs-data.com/bilder/wappen/mini/543.gif?fallback=png', 'team': 'Manchester United', 'age': 26, 'height': 175, 'position': 'DF', 'nation': 'Argentina'}, {'pid': 62, 'name': 'Han-Noah Massengo', 'logo': 'https://s.hs-data.com/bilder/wappen/mini/3185.gif?fallback=png', 'team': 'Burnley FC', 'age': 22, 'height': 178, 'position': 'MF', 'nation': 'France'}, {'pid': 63, 'name': 'Jean-Philippe Mateta', 'logo': 'https://s.hs-data.com/bilder/wappen/mini/2242.gif?fallback=png', 'team': 'Crystal Palace', 'age': 26, 'height': 192, 'position': 'FW', 'nation': 'France'}, {'pid': 64, 'name': 'Matheus França', 'logo': 'https://s.hs-data.com/bilder/wappen/mini/2242.gif?fallback=png', 'team': 'Crystal Palace', 'age': 19, 'height': 184, 'position': 'FW', 'nation': 'Brazil'}, {'pid': 65, 'name': 'Matheus Nunes', 'logo': 'https://s.hs-data.com/bilder/wappen/mini/750.gif?fallback=png', 'team': 'Manchester City', 'age': 25, 'height': 184, 'position': 'MF', 'nation': 'Portugal'}, {'pid': 66, 'name': 'Jacob Bruun Larsen', 'logo': 'https://s.hs-data.com/bilder/wappen/mini/3185.gif?fallback=png', 'team': 'Burnley FC', 'age': 25, 'height': 183, 'position': 'FW', 'nation': 'Denmark'}, {'pid': 67, 'name': 'Bryan Gil', 'logo': 'https://s.hs-data.com/bilder/wappen/mini/552.gif?fallback=png', 'team': 'Tottenham Hotspur', 'age': 23, 'height': 175, 'position': 'MF', 'nation': 'Spain'}, {'pid': 68, 'name': 'Scott Carson', 'logo': 'https://s.hs-data.com/bilder/wappen/mini/750.gif?fallback=png', 'team': 'Manchester City', 'age': 38, 'height': 188, 'position': 'GK', 'nation': 'England'}, {'pid': 69, 'name': 'Casemiro', 'logo': 'https://s.hs-data.com/bilder/wappen/mini/543.gif?fallback=png', 'team': 'Manchester United', 'age': 32, 'height': 185, 'position': 'MF', 'nation': 'Brazil'}, {'pid': 70, 'name': 'Cédric', 'logo': 'https://s.hs-data.com/bilder/wappen/mini/555.gif?fallback=png', 'team': 'Arsenal FC', 'age': 32, 'height': 171, 'position': 'DF', 'nation': 'Portugal'}, {'pid': 71, 'name': 'Trevoh Chalobah', 'logo': 'https://s.hs-data.com/bilder/wappen/mini/544.gif?fallback=png', 'team': 'Chelsea FC', 'age': 24, 'height': 192, 'position': 'DF', 'nation': 'England'}, {'pid': 72, 'name': 'Timothy Castagne', 'logo': 'https://s.hs-data.com/bilder/wappen/mini/558.gif?fallback=png', 'team': 'Fulham FC', 'age': 28, 'height': 185, 'position': 'DF', 'nation': 'Belgium'}, {'pid': 73, 'name': 'Calum Chambers', 'logo': 'https://s.hs-data.com/bilder/wappen/mini/559.gif?fallback=png', 'team': 'Aston Villa', 'age': 29, 'height': 182, 'position': 'DF', 'nation': 'England'}, {'pid': 74, 'name': 'Tahith Chong', 'logo': 'https://s.hs-data.com/bilder/wappen/mini/3123.gif?fallback=png', 'team': 'Luton Town', 'age': 24, 'height': 185, 'position': 'MF', 'nation': 'Netherlands'}, {'pid': 75, 'name': 'Jack Cork', 'logo': 'https://s.hs-data.com/bilder/wappen/mini/3185.gif?fallback=png', 'team': 'Burnley FC', 'age': 34, 'height': 185, 'position': 'MF', 'nation': 'England'}, {'pid': 76, 'name': 'Maxwel Cornet', 'logo': 'https://s.hs-data.com/bilder/wappen/mini/553.gif?fallback=png', 'team': 'West Ham United', 'age': 27, 'height': 179, 'position': 'MF', 'nation': 'Ivory Coast'}, {'pid': 77, 'name': 'Cucurella', 'logo': 'https://s.hs-data.com/bilder/wappen/mini/544.gif?fallback=png', 'team': 'Chelsea FC', 'age': 25, 'height': 173, 'position': 'DF', 'nation': 'Spain'}, {'pid': 78, 'name': 'Arnaut Danjuma', 'logo': 'https://s.hs-data.com/bilder/wappen/mini/560.gif?fallback=png', 'team': 'Everton FC', 'age': 27, 'height': 178, 'position': 'FW', 'nation': 'Netherlands'}, {'pid': 79, 'name': 'Mario Lemina', 'logo': 'https://s.hs-data.com/bilder/wappen/mini/749.gif?fallback=png', 'team': 'Wolverhampton Wanderers', 'age': 30, 'height': 184, 'position': 'MF', 'nation': 'Gabon'}, {'pid': 80, 'name': 'Clément Lenglet', 'logo': 'https://s.hs-data.com/bilder/wappen/mini/559.gif?fallback=png', 'team': 'Aston Villa', 'age': 28, 'height': 186, 'position': 'DF', 'nation': 'France'}, {'pid': 81, 'name': 'Bernd Leno', 'logo': 'https://s.hs-data.com/bilder/wappen/mini/558.gif?fallback=png', 'team': 'Fulham FC', 'age': 32, 'height': 190, 'position': 'GK', 'nation': 'Germany'}, {'pid': 82, 'name': 'Victor Lindelöf', 'logo': 'https://s.hs-data.com/bilder/wappen/mini/543.gif?fallback=png', 'team': 'Manchester United', 'age': 29, 'height': 187, 'position': 'DF', 'nation': 'Sweden'}, {'pid': 83, 'name': 'Giovani Lo Celso', 'logo': 'https://s.hs-data.com/bilder/wappen/mini/552.gif?fallback=png', 'team': 'Tottenham Hotspur', 'age': 27, 'height': 177, 'position': 'MF', 'nation': 'Argentina'}, {'pid': 84, 'name': 'Tyrell Malacia', 'logo': 'https://s.hs-data.com/bilder/wappen/mini/543.gif?fallback=png', 'team': 'Manchester United', 'age': 24, 'height': 169, 'position': 'DF', 'nation': 'Netherlands'}, {'pid': 85, 'name': 'Anthony Martial', 'logo': 'https://s.hs-data.com/bilder/wappen/mini/543.gif?fallback=png', 'team': 'Manchester United', 'age': 28, 'height': 181, 'position': 'FW', 'nation': 'France'}, {'pid': 86, 'name': 'Emiliano Martínez', 'logo': 'https://s.hs-data.com/bilder/wappen/mini/559.gif?fallback=png', 'team': 'Aston Villa', 'age': 31, 'height': 195, 'position': 'GK', 'nation': 'Argentina'}, {'pid': 87, 'name': 'Matheus Cunha', 'logo': 'https://s.hs-data.com/bilder/wappen/mini/749.gif?fallback=png', 'team': 'Wolverhampton Wanderers', 'age': 24, 'height': 184, 'position': 'FW', 'nation': 'Brazil'}, {'pid': 88, 'name': 'Joel Matip', 'logo': 'https://s.hs-data.com/bilder/wappen/mini/550.gif?fallback=png', 'team': 'Liverpool FC', 'age': 32, 'height': 195, 'position': 'DF', 'nation': 'Cameroon'}, {'pid': 89, 'name': 'Joshua Brooking', 'logo': 'https://s.hs-data.com/bilder/wappen/mini/544.gif?fallback=png', 'team': 'Chelsea FC', 'age': 21, 'height': 185, 'position': 'DF', 'nation': 'England'}, {'pid': 90, 'name': 'Andre Brooks', 'logo': 'https://s.hs-data.com/bilder/wappen/mini/2309.gif?fallback=png', 'team': 'Sheffield United', 'age': 20, 'height': 180, 'position': 'MF', 'nation': 'England'}, {'pid': 91, 'name': 'Jarrad Branthwaite', 'logo': 'https://s.hs-data.com/bilder/wappen/mini/560.gif?fallback=png', 'team': 'Everton FC', 'age': 21, 'height': 195, 'position': 'DF', 'nation': 'England'}, {'pid': 92, 'name': 'Jacob Brown', 'logo': 'https://s.hs-data.com/bilder/wappen/mini/3123.gif?fallback=png', 'team': 'Luton Town', 'age': 25, 'height': 178, 'position': 'FW', 'nation': 'Scotland'}, {'pid': 93, 'name': 'Armando Broja', 'logo': 'https://s.hs-data.com/bilder/wappen/mini/558.gif?fallback=png', 'team': 'Fulham FC', 'age': 22, 'height': 191, 'position': 'FW', 'nation': 'Albania'}, {'pid': 94, 'name': 'Josh Brownhill', 'logo': 'https://s.hs-data.com/bilder/wappen/mini/3185.gif?fallback=png', 'team': 'Burnley FC', 'age': 28, 'height': 179, 'position': 'MF', 'nation': 'England'}, {'pid': 95, 'name': 'Rhian Brewster', 'logo': 'https://s.hs-data.com/bilder/wappen/mini/2309.gif?fallback=png', 'team': 'Sheffield United', 'age': 23, 'height': 180, 'position': 'FW', 'nation': 'England'}, {'pid': 96, 'name': 'Bruno Fernandes', 'logo': 'https://s.hs-data.com/bilder/wappen/mini/543.gif?fallback=png', 'team': 'Manchester United', 'age': 29, 'height': 179, 'position': 'MF', 'nation': 'Portugal'}]\n"
     ]
    }
   ],
   "source": [
    "import requests\n",
    "\n",
    "url = \"https://premier-league-players1.p.rapidapi.com/players\"\n",
    "\n",
    "headers = {\n",
    "\t\"X-RapidAPI-Key\": \"16a307a9bemsh20ca6f2e4755c2ap1a7065jsn62bcdfdbfb4d\",\n",
    "\t\"X-RapidAPI-Host\": \"premier-league-players1.p.rapidapi.com\"\n",
    "}\n",
    "\n",
    "response = requests.get(url, headers=headers)\n",
    "\n",
    "print(response.json())"
   ]
  },
  {
   "cell_type": "code",
   "execution_count": 2,
   "metadata": {},
   "outputs": [
    {
     "data": {
      "text/plain": [
       "requests.models.Response"
      ]
     },
     "execution_count": 2,
     "metadata": {},
     "output_type": "execute_result"
    }
   ],
   "source": [
    "type(response)"
   ]
  },
  {
   "cell_type": "code",
   "execution_count": 3,
   "metadata": {},
   "outputs": [],
   "source": [
    "player = response.json()"
   ]
  },
  {
   "cell_type": "code",
   "execution_count": 4,
   "metadata": {},
   "outputs": [
    {
     "name": "stdout",
     "output_type": "stream",
     "text": [
      "{'pid': 1, 'name': 'Bruno Guimarães', 'logo': 'https://s.hs-data.com/bilder/wappen/mini/546.gif?fallback=png', 'team': 'Newcastle United', 'age': 26, 'height': 182, 'position': 'MF', 'nation': 'Brazil'}\n",
      "{'pid': 2, 'name': 'Emiliano Buendia', 'logo': 'https://s.hs-data.com/bilder/wappen/mini/559.gif?fallback=png', 'team': 'Aston Villa', 'age': 27, 'height': 172, 'position': 'MF', 'nation': 'Argentina'}\n",
      "{'pid': 3, 'name': 'Santiago Bueno', 'logo': 'https://s.hs-data.com/bilder/wappen/mini/749.gif?fallback=png', 'team': 'Wolverhampton Wanderers', 'age': 25, 'height': 192, 'position': 'DF', 'nation': 'Uruguay'}\n",
      "{'pid': 4, 'name': 'Facundo Buonanotte', 'logo': 'https://s.hs-data.com/bilder/wappen/mini/3050.gif?fallback=png', 'team': 'Brighton & Hove Albion', 'age': 19, 'height': 174, 'position': 'MF', 'nation': 'Argentina'}\n",
      "{'pid': 5, 'name': 'Reece Burke', 'logo': 'https://s.hs-data.com/bilder/wappen/mini/3123.gif?fallback=png', 'team': 'Luton Town', 'age': 27, 'height': 189, 'position': 'DF', 'nation': 'England'}\n",
      "{'pid': 6, 'name': 'Moisés Caicedo', 'logo': 'https://s.hs-data.com/bilder/wappen/mini/544.gif?fallback=png', 'team': 'Chelsea FC', 'age': 22, 'height': 178, 'position': 'MF', 'nation': 'Ecuador'}\n",
      "{'pid': 7, 'name': 'Dan Burn', 'logo': 'https://s.hs-data.com/bilder/wappen/mini/546.gif?fallback=png', 'team': 'Newcastle United', 'age': 31, 'height': 201, 'position': 'DF', 'nation': 'England'}\n",
      "{'pid': 8, 'name': 'Tom Cairney', 'logo': 'https://s.hs-data.com/bilder/wappen/mini/558.gif?fallback=png', 'team': 'Fulham FC', 'age': 33, 'height': 185, 'position': 'MF', 'nation': 'England'}\n",
      "{'pid': 9, 'name': 'Dominic Calvert-Lewin', 'logo': 'https://s.hs-data.com/bilder/wappen/mini/560.gif?fallback=png', 'team': 'Everton FC', 'age': 27, 'height': 189, 'position': 'FW', 'nation': 'England'}\n",
      "{'pid': 10, 'name': 'Cesare Casadei', 'logo': 'https://s.hs-data.com/bilder/wappen/mini/544.gif?fallback=png', 'team': 'Chelsea FC', 'age': 21, 'height': 185, 'position': 'MF', 'nation': 'Italy'}\n",
      "{'pid': 11, 'name': 'Kaelan Casey', 'logo': 'https://s.hs-data.com/bilder/wappen/mini/553.gif?fallback=png', 'team': 'West Ham United', 'age': 19, 'height': 185, 'position': 'DF', 'nation': 'England'}\n",
      "{'pid': 12, 'name': 'Matty Cash', 'logo': 'https://s.hs-data.com/bilder/wappen/mini/559.gif?fallback=png', 'team': 'Aston Villa', 'age': 26, 'height': 185, 'position': 'DF', 'nation': 'Poland'}\n",
      "{'pid': 13, 'name': 'Leo Castledine', 'logo': 'https://s.hs-data.com/bilder/wappen/mini/544.gif?fallback=png', 'team': 'Chelsea FC', 'age': 18, 'height': 179, 'position': 'MF', 'nation': 'England'}\n",
      "{'pid': 14, 'name': 'Ben Chilwell', 'logo': 'https://s.hs-data.com/bilder/wappen/mini/544.gif?fallback=png', 'team': 'Chelsea FC', 'age': 27, 'height': 181, 'position': 'DF', 'nation': 'England'}\n",
      "{'pid': 15, 'name': 'Tawanda Chirewa', 'logo': 'https://s.hs-data.com/bilder/wappen/mini/749.gif?fallback=png', 'team': 'Wolverhampton Wanderers', 'age': 20, 'height': 181, 'position': 'MF', 'nation': 'England'}\n",
      "{'pid': 16, 'name': 'Leon Chiwome', 'logo': 'https://s.hs-data.com/bilder/wappen/mini/749.gif?fallback=png', 'team': 'Wolverhampton Wanderers', 'age': 18, 'height': 186, 'position': 'FW', 'nation': 'England'}\n",
      "{'pid': 17, 'name': 'Samy Chouchane', 'logo': 'https://s.hs-data.com/bilder/wappen/mini/3050.gif?fallback=png', 'team': 'Brighton & Hove Albion', 'age': 20, 'height': 180, 'position': 'MF', 'nation': 'France'}\n",
      "{'pid': 18, 'name': 'Ryan Christie', 'logo': 'https://s.hs-data.com/bilder/wappen/mini/2248.gif?fallback=png', 'team': 'AFC Bournemouth', 'age': 29, 'height': 178, 'position': 'MF', 'nation': 'Scotland'}\n",
      "{'pid': 19, 'name': 'Carney Chukwuemeka', 'logo': 'https://s.hs-data.com/bilder/wappen/mini/544.gif?fallback=png', 'team': 'Chelsea FC', 'age': 20, 'height': 187, 'position': 'MF', 'nation': 'England'}\n",
      "{'pid': 20, 'name': 'Bobby Clark', 'logo': 'https://s.hs-data.com/bilder/wappen/mini/550.gif?fallback=png', 'team': 'Liverpool FC', 'age': 19, 'height': 178, 'position': 'MF', 'nation': 'England'}\n",
      "{'pid': 21, 'name': 'Jordan Clark', 'logo': 'https://s.hs-data.com/bilder/wappen/mini/3123.gif?fallback=png', 'team': 'Luton Town', 'age': 30, 'height': 183, 'position': 'MF', 'nation': 'England'}\n",
      "{'pid': 22, 'name': 'Nathaniel Clyne', 'logo': 'https://s.hs-data.com/bilder/wappen/mini/2242.gif?fallback=png', 'team': 'Crystal Palace', 'age': 32, 'height': 175, 'position': 'DF', 'nation': 'England'}\n",
      "{'pid': 23, 'name': 'Séamus Coleman', 'logo': 'https://s.hs-data.com/bilder/wappen/mini/560.gif?fallback=png', 'team': 'Everton FC', 'age': 35, 'height': 177, 'position': 'DF', 'nation': 'Ireland'}\n",
      "{'pid': 24, 'name': 'Nathan Collins', 'logo': 'https://s.hs-data.com/bilder/wappen/mini/3271.gif?fallback=png', 'team': 'Brentford FC', 'age': 22, 'height': 193, 'position': 'DF', 'nation': 'Ireland'}\n",
      "{'pid': 25, 'name': 'Toby Collyer', 'logo': 'https://s.hs-data.com/bilder/wappen/mini/543.gif?fallback=png', 'team': 'Manchester United', 'age': 20, 'height': 175, 'position': 'MF', 'nation': 'England'}\n",
      "{'pid': 26, 'name': 'Levi Colwill', 'logo': 'https://s.hs-data.com/bilder/wappen/mini/544.gif?fallback=png', 'team': 'Chelsea FC', 'age': 21, 'height': 187, 'position': 'DF', 'nation': 'England'}\n",
      "{'pid': 27, 'name': 'Lewis Cook', 'logo': 'https://s.hs-data.com/bilder/wappen/mini/2248.gif?fallback=png', 'team': 'AFC Bournemouth', 'age': 27, 'height': 175, 'position': 'MF', 'nation': 'England'}\n",
      "{'pid': 28, 'name': 'Vladimír Coufal', 'logo': 'https://s.hs-data.com/bilder/wappen/mini/553.gif?fallback=png', 'team': 'West Ham United', 'age': 31, 'height': 174, 'position': 'DF', 'nation': 'Czech Republic'}\n",
      "{'pid': 29, 'name': 'Amario Cozier-Duberry', 'logo': 'https://s.hs-data.com/bilder/wappen/mini/555.gif?fallback=png', 'team': 'Arsenal FC', 'age': 18, 'height': 170, 'position': 'MF', 'nation': 'England'}\n",
      "{'pid': 30, 'name': 'Aaron Cresswell', 'logo': 'https://s.hs-data.com/bilder/wappen/mini/553.gif?fallback=png', 'team': 'West Ham United', 'age': 34, 'height': 170, 'position': 'DF', 'nation': 'England'}\n",
      "{'pid': 31, 'name': 'Josh Cullen', 'logo': 'https://s.hs-data.com/bilder/wappen/mini/3185.gif?fallback=png', 'team': 'Burnley FC', 'age': 27, 'height': 175, 'position': 'MF', 'nation': 'Ireland'}\n",
      "{'pid': 32, 'name': 'Ted Curd', 'logo': 'https://s.hs-data.com/bilder/wappen/mini/544.gif?fallback=png', 'team': 'Chelsea FC', 'age': 18, 'height': 186, 'position': 'GK', 'nation': 'England'}\n",
      "{'pid': 33, 'name': 'Mikkel Damsgaard', 'logo': 'https://s.hs-data.com/bilder/wappen/mini/3271.gif?fallback=png', 'team': 'Brentford FC', 'age': 23, 'height': 180, 'position': 'MF', 'nation': 'Denmark'}\n",
      "{'pid': 34, 'name': 'Sam Curtis', 'logo': 'https://s.hs-data.com/bilder/wappen/mini/2309.gif?fallback=png', 'team': 'Sheffield United', 'age': 18, 'height': 185, 'position': 'DF', 'nation': 'Ireland'}\n",
      "{'pid': 35, 'name': 'Danilo', 'logo': 'https://s.hs-data.com/bilder/wappen/mini/743.gif?fallback=png', 'team': 'Nottingham Forest', 'age': 22, 'height': 177, 'position': 'MF', 'nation': 'Brazil'}\n",
      "{'pid': 36, 'name': 'Joshua Dasilva', 'logo': 'https://s.hs-data.com/bilder/wappen/mini/3271.gif?fallback=png', 'team': 'Brentford FC', 'age': 25, 'height': 184, 'position': 'MF', 'nation': 'England'}\n",
      "{'pid': 37, 'name': 'Adam Lallana', 'logo': 'https://s.hs-data.com/bilder/wappen/mini/3050.gif?fallback=png', 'team': 'Brighton & Hove Albion', 'age': 35, 'height': 172, 'position': 'MF', 'nation': 'England'}\n",
      "{'pid': 38, 'name': 'Tariq Lamptey', 'logo': 'https://s.hs-data.com/bilder/wappen/mini/3050.gif?fallback=png', 'team': 'Brighton & Hove Albion', 'age': 23, 'height': 163, 'position': 'DF', 'nation': 'Ghana'}\n",
      "{'pid': 39, 'name': 'Yasser Larouci', 'logo': 'https://s.hs-data.com/bilder/wappen/mini/2309.gif?fallback=png', 'team': 'Sheffield United', 'age': 23, 'height': 176, 'position': 'DF', 'nation': 'France'}\n",
      "{'pid': 40, 'name': 'Jamaal Lascelles', 'logo': 'https://s.hs-data.com/bilder/wappen/mini/546.gif?fallback=png', 'team': 'Newcastle United', 'age': 30, 'height': 188, 'position': 'DF', 'nation': 'England'}\n",
      "{'pid': 41, 'name': 'Roméo Lavia', 'logo': 'https://s.hs-data.com/bilder/wappen/mini/544.gif?fallback=png', 'team': 'Chelsea FC', 'age': 20, 'height': 181, 'position': 'MF', 'nation': 'Belgium'}\n",
      "{'pid': 42, 'name': 'Noha Lemina', 'logo': 'https://s.hs-data.com/bilder/wappen/mini/749.gif?fallback=png', 'team': 'Wolverhampton Wanderers', 'age': 18, 'height': 172, 'position': 'FW', 'nation': 'France'}\n",
      "{'pid': 43, 'name': 'Jefferson Lerma', 'logo': 'https://s.hs-data.com/bilder/wappen/mini/2242.gif?fallback=png', 'team': 'Crystal Palace', 'age': 29, 'height': 179, 'position': 'MF', 'nation': 'Colombia'}\n",
      "{'pid': 44, 'name': 'Rico Lewis', 'logo': 'https://s.hs-data.com/bilder/wappen/mini/750.gif?fallback=png', 'team': 'Manchester City', 'age': 19, 'height': 175, 'position': 'DF', 'nation': 'England'}\n",
      "{'pid': 45, 'name': 'Myles Lewis-Skelly', 'logo': 'https://s.hs-data.com/bilder/wappen/mini/555.gif?fallback=png', 'team': 'Arsenal FC', 'age': 17, 'height': 178, 'position': 'MF', 'nation': 'England'}\n",
      "{'pid': 46, 'name': 'Keane Lewis-Potter', 'logo': 'https://s.hs-data.com/bilder/wappen/mini/3271.gif?fallback=png', 'team': 'Brentford FC', 'age': 23, 'height': 170, 'position': 'FW', 'nation': 'England'}\n",
      "{'pid': 47, 'name': 'Tino Livramento', 'logo': 'https://s.hs-data.com/bilder/wappen/mini/546.gif?fallback=png', 'team': 'Newcastle United', 'age': 21, 'height': 173, 'position': 'DF', 'nation': 'England'}\n",
      "{'pid': 48, 'name': 'Tom Lockyer', 'logo': 'https://s.hs-data.com/bilder/wappen/mini/3123.gif?fallback=png', 'team': 'Luton Town', 'age': 29, 'height': 185, 'position': 'DF', 'nation': 'Wales'}\n",
      "{'pid': 49, 'name': 'Albert Lokonga', 'logo': 'https://s.hs-data.com/bilder/wappen/mini/3123.gif?fallback=png', 'team': 'Luton Town', 'age': 24, 'height': 183, 'position': 'MF', 'nation': 'Belgium'}\n",
      "{'pid': 50, 'name': 'Andy Lonergan', 'logo': 'https://s.hs-data.com/bilder/wappen/mini/560.gif?fallback=png', 'team': 'Everton FC', 'age': 40, 'height': 193, 'position': 'GK', 'nation': 'England'}\n",
      "{'pid': 51, 'name': 'Sean Longstaff', 'logo': 'https://s.hs-data.com/bilder/wappen/mini/546.gif?fallback=png', 'team': 'Newcastle United', 'age': 26, 'height': 181, 'position': 'MF', 'nation': 'England'}\n",
      "{'pid': 52, 'name': 'Max Lowe', 'logo': 'https://s.hs-data.com/bilder/wappen/mini/2309.gif?fallback=png', 'team': 'Sheffield United', 'age': 26, 'height': 175, 'position': 'DF', 'nation': 'England'}\n",
      "{'pid': 53, 'name': 'Lucas Paquetá', 'logo': 'https://s.hs-data.com/bilder/wappen/mini/553.gif?fallback=png', 'team': 'West Ham United', 'age': 26, 'height': 180, 'position': 'MF', 'nation': 'Brazil'}\n",
      "{'pid': 54, 'name': 'Saša Lukić', 'logo': 'https://s.hs-data.com/bilder/wappen/mini/558.gif?fallback=png', 'team': 'Fulham FC', 'age': 27, 'height': 182, 'position': 'MF', 'nation': 'Serbia'}\n",
      "{'pid': 55, 'name': 'Alexis Mac Allister', 'logo': 'https://s.hs-data.com/bilder/wappen/mini/550.gif?fallback=png', 'team': 'Liverpool FC', 'age': 25, 'height': 174, 'position': 'MF', 'nation': 'Argentina'}\n",
      "{'pid': 56, 'name': 'James Maddison', 'logo': 'https://s.hs-data.com/bilder/wappen/mini/552.gif?fallback=png', 'team': 'Tottenham Hotspur', 'age': 27, 'height': 175, 'position': 'MF', 'nation': 'England'}\n",
      "{'pid': 57, 'name': 'Noni Madueke', 'logo': 'https://s.hs-data.com/bilder/wappen/mini/544.gif?fallback=png', 'team': 'Chelsea FC', 'age': 22, 'height': 182, 'position': 'FW', 'nation': 'England'}\n",
      "{'pid': 58, 'name': 'Harry Maguire', 'logo': 'https://s.hs-data.com/bilder/wappen/mini/543.gif?fallback=png', 'team': 'Manchester United', 'age': 31, 'height': 194, 'position': 'DF', 'nation': 'England'}\n",
      "{'pid': 59, 'name': 'Kobbie Mainoo', 'logo': 'https://s.hs-data.com/bilder/wappen/mini/543.gif?fallback=png', 'team': 'Manchester United', 'age': 18, 'height': 175, 'position': 'MF', 'nation': 'England'}\n",
      "{'pid': 60, 'name': 'Solly March', 'logo': 'https://s.hs-data.com/bilder/wappen/mini/3050.gif?fallback=png', 'team': 'Brighton & Hove Albion', 'age': 29, 'height': 180, 'position': 'MF', 'nation': 'England'}\n",
      "{'pid': 61, 'name': 'Lisandro Martínez', 'logo': 'https://s.hs-data.com/bilder/wappen/mini/543.gif?fallback=png', 'team': 'Manchester United', 'age': 26, 'height': 175, 'position': 'DF', 'nation': 'Argentina'}\n",
      "{'pid': 62, 'name': 'Han-Noah Massengo', 'logo': 'https://s.hs-data.com/bilder/wappen/mini/3185.gif?fallback=png', 'team': 'Burnley FC', 'age': 22, 'height': 178, 'position': 'MF', 'nation': 'France'}\n",
      "{'pid': 63, 'name': 'Jean-Philippe Mateta', 'logo': 'https://s.hs-data.com/bilder/wappen/mini/2242.gif?fallback=png', 'team': 'Crystal Palace', 'age': 26, 'height': 192, 'position': 'FW', 'nation': 'France'}\n",
      "{'pid': 64, 'name': 'Matheus França', 'logo': 'https://s.hs-data.com/bilder/wappen/mini/2242.gif?fallback=png', 'team': 'Crystal Palace', 'age': 19, 'height': 184, 'position': 'FW', 'nation': 'Brazil'}\n",
      "{'pid': 65, 'name': 'Matheus Nunes', 'logo': 'https://s.hs-data.com/bilder/wappen/mini/750.gif?fallback=png', 'team': 'Manchester City', 'age': 25, 'height': 184, 'position': 'MF', 'nation': 'Portugal'}\n",
      "{'pid': 66, 'name': 'Jacob Bruun Larsen', 'logo': 'https://s.hs-data.com/bilder/wappen/mini/3185.gif?fallback=png', 'team': 'Burnley FC', 'age': 25, 'height': 183, 'position': 'FW', 'nation': 'Denmark'}\n",
      "{'pid': 67, 'name': 'Bryan Gil', 'logo': 'https://s.hs-data.com/bilder/wappen/mini/552.gif?fallback=png', 'team': 'Tottenham Hotspur', 'age': 23, 'height': 175, 'position': 'MF', 'nation': 'Spain'}\n",
      "{'pid': 68, 'name': 'Scott Carson', 'logo': 'https://s.hs-data.com/bilder/wappen/mini/750.gif?fallback=png', 'team': 'Manchester City', 'age': 38, 'height': 188, 'position': 'GK', 'nation': 'England'}\n",
      "{'pid': 69, 'name': 'Casemiro', 'logo': 'https://s.hs-data.com/bilder/wappen/mini/543.gif?fallback=png', 'team': 'Manchester United', 'age': 32, 'height': 185, 'position': 'MF', 'nation': 'Brazil'}\n",
      "{'pid': 70, 'name': 'Cédric', 'logo': 'https://s.hs-data.com/bilder/wappen/mini/555.gif?fallback=png', 'team': 'Arsenal FC', 'age': 32, 'height': 171, 'position': 'DF', 'nation': 'Portugal'}\n",
      "{'pid': 71, 'name': 'Trevoh Chalobah', 'logo': 'https://s.hs-data.com/bilder/wappen/mini/544.gif?fallback=png', 'team': 'Chelsea FC', 'age': 24, 'height': 192, 'position': 'DF', 'nation': 'England'}\n",
      "{'pid': 72, 'name': 'Timothy Castagne', 'logo': 'https://s.hs-data.com/bilder/wappen/mini/558.gif?fallback=png', 'team': 'Fulham FC', 'age': 28, 'height': 185, 'position': 'DF', 'nation': 'Belgium'}\n",
      "{'pid': 73, 'name': 'Calum Chambers', 'logo': 'https://s.hs-data.com/bilder/wappen/mini/559.gif?fallback=png', 'team': 'Aston Villa', 'age': 29, 'height': 182, 'position': 'DF', 'nation': 'England'}\n",
      "{'pid': 74, 'name': 'Tahith Chong', 'logo': 'https://s.hs-data.com/bilder/wappen/mini/3123.gif?fallback=png', 'team': 'Luton Town', 'age': 24, 'height': 185, 'position': 'MF', 'nation': 'Netherlands'}\n",
      "{'pid': 75, 'name': 'Jack Cork', 'logo': 'https://s.hs-data.com/bilder/wappen/mini/3185.gif?fallback=png', 'team': 'Burnley FC', 'age': 34, 'height': 185, 'position': 'MF', 'nation': 'England'}\n",
      "{'pid': 76, 'name': 'Maxwel Cornet', 'logo': 'https://s.hs-data.com/bilder/wappen/mini/553.gif?fallback=png', 'team': 'West Ham United', 'age': 27, 'height': 179, 'position': 'MF', 'nation': 'Ivory Coast'}\n",
      "{'pid': 77, 'name': 'Cucurella', 'logo': 'https://s.hs-data.com/bilder/wappen/mini/544.gif?fallback=png', 'team': 'Chelsea FC', 'age': 25, 'height': 173, 'position': 'DF', 'nation': 'Spain'}\n",
      "{'pid': 78, 'name': 'Arnaut Danjuma', 'logo': 'https://s.hs-data.com/bilder/wappen/mini/560.gif?fallback=png', 'team': 'Everton FC', 'age': 27, 'height': 178, 'position': 'FW', 'nation': 'Netherlands'}\n",
      "{'pid': 79, 'name': 'Mario Lemina', 'logo': 'https://s.hs-data.com/bilder/wappen/mini/749.gif?fallback=png', 'team': 'Wolverhampton Wanderers', 'age': 30, 'height': 184, 'position': 'MF', 'nation': 'Gabon'}\n",
      "{'pid': 80, 'name': 'Clément Lenglet', 'logo': 'https://s.hs-data.com/bilder/wappen/mini/559.gif?fallback=png', 'team': 'Aston Villa', 'age': 28, 'height': 186, 'position': 'DF', 'nation': 'France'}\n",
      "{'pid': 81, 'name': 'Bernd Leno', 'logo': 'https://s.hs-data.com/bilder/wappen/mini/558.gif?fallback=png', 'team': 'Fulham FC', 'age': 32, 'height': 190, 'position': 'GK', 'nation': 'Germany'}\n",
      "{'pid': 82, 'name': 'Victor Lindelöf', 'logo': 'https://s.hs-data.com/bilder/wappen/mini/543.gif?fallback=png', 'team': 'Manchester United', 'age': 29, 'height': 187, 'position': 'DF', 'nation': 'Sweden'}\n",
      "{'pid': 83, 'name': 'Giovani Lo Celso', 'logo': 'https://s.hs-data.com/bilder/wappen/mini/552.gif?fallback=png', 'team': 'Tottenham Hotspur', 'age': 27, 'height': 177, 'position': 'MF', 'nation': 'Argentina'}\n",
      "{'pid': 84, 'name': 'Tyrell Malacia', 'logo': 'https://s.hs-data.com/bilder/wappen/mini/543.gif?fallback=png', 'team': 'Manchester United', 'age': 24, 'height': 169, 'position': 'DF', 'nation': 'Netherlands'}\n",
      "{'pid': 85, 'name': 'Anthony Martial', 'logo': 'https://s.hs-data.com/bilder/wappen/mini/543.gif?fallback=png', 'team': 'Manchester United', 'age': 28, 'height': 181, 'position': 'FW', 'nation': 'France'}\n",
      "{'pid': 86, 'name': 'Emiliano Martínez', 'logo': 'https://s.hs-data.com/bilder/wappen/mini/559.gif?fallback=png', 'team': 'Aston Villa', 'age': 31, 'height': 195, 'position': 'GK', 'nation': 'Argentina'}\n",
      "{'pid': 87, 'name': 'Matheus Cunha', 'logo': 'https://s.hs-data.com/bilder/wappen/mini/749.gif?fallback=png', 'team': 'Wolverhampton Wanderers', 'age': 24, 'height': 184, 'position': 'FW', 'nation': 'Brazil'}\n",
      "{'pid': 88, 'name': 'Joel Matip', 'logo': 'https://s.hs-data.com/bilder/wappen/mini/550.gif?fallback=png', 'team': 'Liverpool FC', 'age': 32, 'height': 195, 'position': 'DF', 'nation': 'Cameroon'}\n",
      "{'pid': 89, 'name': 'Joshua Brooking', 'logo': 'https://s.hs-data.com/bilder/wappen/mini/544.gif?fallback=png', 'team': 'Chelsea FC', 'age': 21, 'height': 185, 'position': 'DF', 'nation': 'England'}\n",
      "{'pid': 90, 'name': 'Andre Brooks', 'logo': 'https://s.hs-data.com/bilder/wappen/mini/2309.gif?fallback=png', 'team': 'Sheffield United', 'age': 20, 'height': 180, 'position': 'MF', 'nation': 'England'}\n",
      "{'pid': 91, 'name': 'Jarrad Branthwaite', 'logo': 'https://s.hs-data.com/bilder/wappen/mini/560.gif?fallback=png', 'team': 'Everton FC', 'age': 21, 'height': 195, 'position': 'DF', 'nation': 'England'}\n",
      "{'pid': 92, 'name': 'Jacob Brown', 'logo': 'https://s.hs-data.com/bilder/wappen/mini/3123.gif?fallback=png', 'team': 'Luton Town', 'age': 25, 'height': 178, 'position': 'FW', 'nation': 'Scotland'}\n",
      "{'pid': 93, 'name': 'Armando Broja', 'logo': 'https://s.hs-data.com/bilder/wappen/mini/558.gif?fallback=png', 'team': 'Fulham FC', 'age': 22, 'height': 191, 'position': 'FW', 'nation': 'Albania'}\n",
      "{'pid': 94, 'name': 'Josh Brownhill', 'logo': 'https://s.hs-data.com/bilder/wappen/mini/3185.gif?fallback=png', 'team': 'Burnley FC', 'age': 28, 'height': 179, 'position': 'MF', 'nation': 'England'}\n",
      "{'pid': 95, 'name': 'Rhian Brewster', 'logo': 'https://s.hs-data.com/bilder/wappen/mini/2309.gif?fallback=png', 'team': 'Sheffield United', 'age': 23, 'height': 180, 'position': 'FW', 'nation': 'England'}\n",
      "{'pid': 96, 'name': 'Bruno Fernandes', 'logo': 'https://s.hs-data.com/bilder/wappen/mini/543.gif?fallback=png', 'team': 'Manchester United', 'age': 29, 'height': 179, 'position': 'MF', 'nation': 'Portugal'}\n"
     ]
    }
   ],
   "source": [
    "for i in player:\n",
    "    print(i)"
   ]
  }
 ],
 "metadata": {
  "kernelspec": {
   "display_name": "Python 3",
   "language": "python",
   "name": "python3"
  },
  "language_info": {
   "codemirror_mode": {
    "name": "ipython",
    "version": 3
   },
   "file_extension": ".py",
   "mimetype": "text/x-python",
   "name": "python",
   "nbconvert_exporter": "python",
   "pygments_lexer": "ipython3",
   "version": "3.10.2"
  },
  "orig_nbformat": 4,
  "vscode": {
   "interpreter": {
    "hash": "daa6be7648d1b73a8591fd7f082ce865445c198732df24ca0b88bde711525f6e"
   }
  }
 },
 "nbformat": 4,
 "nbformat_minor": 2
}
